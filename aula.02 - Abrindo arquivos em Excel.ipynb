{
 "cells": [
  {
   "cell_type": "code",
   "execution_count": null,
   "metadata": {},
   "outputs": [],
   "source": [
    "# Importando bilbioteca\n",
    "import pandas as pd"
   ]
  },
  {
   "cell_type": "code",
   "execution_count": null,
   "metadata": {},
   "outputs": [],
   "source": [
    "# Avrindo Excel\n",
    "df = pd.read_excel('arquivo_excel.xlsx')"
   ]
  },
  {
   "cell_type": "code",
   "execution_count": null,
   "metadata": {},
   "outputs": [],
   "source": [
    "# Especificando qual aba abrir (sheet_name=)\n",
    "df = pd.read_excel('arquivo_excel.xlsx', sheet_name=1)"
   ]
  },
  {
   "cell_type": "code",
   "execution_count": null,
   "metadata": {},
   "outputs": [],
   "source": [
    "#Verificando quais abas existem dentro do Excel ()\n",
    "arquivo_excel = pd.ExcelFile('arquivo_excel.xlsx')"
   ]
  },
  {
   "cell_type": "code",
   "execution_count": null,
   "metadata": {},
   "outputs": [],
   "source": [
    "# Esse comendo mostrará o nome de todas as abas que existem dentro do Excel\n",
    "arquivo_excel.sheet_name"
   ]
  },
  {
   "cell_type": "code",
   "execution_count": null,
   "metadata": {},
   "outputs": [],
   "source": [
    "# USando PARSE para selecionar as abas\n",
    "aba1 = arquivo_excel.parse('nome_da_aba')\n",
    "aba2 = arquivo_excel.parse('nome_da_aba')"
   ]
  }
 ],
 "metadata": {
  "language_info": {
   "name": "python"
  },
  "orig_nbformat": 4
 },
 "nbformat": 4,
 "nbformat_minor": 2
}
