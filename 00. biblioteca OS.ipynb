{
 "cells": [
  {
   "cell_type": "code",
   "execution_count": 7,
   "metadata": {},
   "outputs": [],
   "source": [
    "import os # Serve para navegar dentro do computador, pastas arquivos."
   ]
  },
  {
   "cell_type": "code",
   "execution_count": 8,
   "metadata": {},
   "outputs": [
    {
     "name": "stdout",
     "output_type": "stream",
     "text": [
      "BlueShift\n"
     ]
    }
   ],
   "source": [
    "sistema = os.environ\n",
    "print(sistema['USERNAME'])"
   ]
  },
  {
   "cell_type": "code",
   "execution_count": 10,
   "metadata": {},
   "outputs": [
    {
     "name": "stdout",
     "output_type": "stream",
     "text": [
      "c:\\Users\\BlueShift\\Documents\\github\\pandas\n"
     ]
    }
   ],
   "source": [
    "print(os.getcwd())"
   ]
  },
  {
   "cell_type": "code",
   "execution_count": 17,
   "metadata": {},
   "outputs": [
    {
     "name": "stdout",
     "output_type": "stream",
     "text": [
      "C:\\Users\\BlueShift\\Desktop\n"
     ]
    }
   ],
   "source": [
    "novo_caminho = r'C:\\Users\\BlueShift\\Desktop'\n",
    "os.chdir(novo_caminho)\n",
    "print(os.getcwd())"
   ]
  },
  {
   "cell_type": "code",
   "execution_count": 18,
   "metadata": {},
   "outputs": [
    {
     "name": "stdout",
     "output_type": "stream",
     "text": [
      "['desktop.ini', 'Dolphin Anty.lnk', 'Microsoft Teams.lnk', 'Outros', 'TESTE', 'Visual Studio Code.lnk', 'Zoom.lnk']\n"
     ]
    }
   ],
   "source": [
    "os.mkdir(\"TESTE\") # criar um pasta dentro do dirtorio\n",
    "print(os.listdir())# Lista todos os arquivos que existem dentro desse diretorio"
   ]
  },
  {
   "cell_type": "code",
   "execution_count": 19,
   "metadata": {},
   "outputs": [
    {
     "name": "stdout",
     "output_type": "stream",
     "text": [
      "None\n"
     ]
    }
   ],
   "source": [
    "caminho = r'C:\\Users\\BlueShift\\Desktop\\TESTE\\2023\\janeiro\\manha'\n",
    "print(os.makedirs(caminho))"
   ]
  },
  {
   "cell_type": "code",
   "execution_count": null,
   "metadata": {},
   "outputs": [],
   "source": [
    "os.rmdir(r'C:\\Users\\BlueShift\\Desktop\\TESTE\\2023\\janeiro\\manha')"
   ]
  },
  {
   "attachments": {},
   "cell_type": "markdown",
   "metadata": {},
   "source": [
    "Como trabalhar com arquivos"
   ]
  },
  {
   "cell_type": "code",
   "execution_count": 21,
   "metadata": {},
   "outputs": [],
   "source": [
    "os.startfile(r'C:\\Users\\BlueShift\\Desktop\\TESTE\\2023\\janeiro\\manha\\oi.txt') # permite abrir o arquivo"
   ]
  },
  {
   "cell_type": "code",
   "execution_count": 30,
   "metadata": {},
   "outputs": [],
   "source": [
    "os.chdir(r'C:\\Users\\BlueShift\\Desktop\\TESTE\\2023\\janeiro\\manha')\n",
    "os.rename('oi.txt','tchau.txt')"
   ]
  },
  {
   "cell_type": "code",
   "execution_count": 32,
   "metadata": {},
   "outputs": [],
   "source": [
    "os.remove('tchau.txt')"
   ]
  },
  {
   "cell_type": "code",
   "execution_count": 39,
   "metadata": {},
   "outputs": [
    {
     "name": "stdout",
     "output_type": "stream",
     "text": [
      "['desktop.ini', 'Dolphin Anty.lnk', 'Microsoft Teams.lnk', 'Visual Studio Code.lnk', 'Zoom.lnk']\n",
      "['alpa-talkwalker-raw-to-trusted-campaigns-teste.json', 'de-para view simple', 'download.jfif', 'lista de palabras chaves - ENG', 'lista de palabras chaves - PTBR', 'NF - Icaro Martins - Abril - 2023.pdf', 'NF - Icaro Martins - Dezembro - 2022.pdf', 'NF - Icaro Martins - Fevereiro - 2023 -  Atalizado.pdf', 'NF - Icaro Martins - Fevereiro - 2023.pdf', 'NF - Icaro Martins - Janeiro - 2023.pdf', 'NF - Icaro Martins - Maio - 2023.pdf', 'NF - Icaro Martins - Março 2023.pdf', 'NF - Icaro Martins - Novembro - 2022.pdf', 'NF - Icaro Martins - Outrubro 2022.pdf', 'resposta.textile', 'resposta.tsx', 'Servidores de serviço - godaddy - original.JPG', 'tutorial_airflow.py', 'viagem gramado.JPG']\n",
      "[]\n",
      "[]\n",
      "[]\n",
      "[]\n"
     ]
    }
   ],
   "source": [
    "for root,dirs,file in os.walk(r'C:\\Users\\BlueShift\\Desktop'):\n",
    "    print(file)"
   ]
  },
  {
   "attachments": {},
   "cell_type": "markdown",
   "metadata": {},
   "source": [
    "Caminhos (Submodulos os.path)"
   ]
  },
  {
   "cell_type": "code",
   "execution_count": 42,
   "metadata": {},
   "outputs": [
    {
     "name": "stdout",
     "output_type": "stream",
     "text": [
      "manha\n"
     ]
    }
   ],
   "source": [
    "print(os.path.basename(os.getcwd()))# bansename me o nome da pasta que eu estou"
   ]
  },
  {
   "cell_type": "code",
   "execution_count": 43,
   "metadata": {},
   "outputs": [
    {
     "name": "stdout",
     "output_type": "stream",
     "text": [
      "Deu certo!\n"
     ]
    }
   ],
   "source": [
    "if os.path.basename('manha'):\n",
    "    print('Deu certo!')"
   ]
  }
 ],
 "metadata": {
  "kernelspec": {
   "display_name": "Python 3",
   "language": "python",
   "name": "python3"
  },
  "language_info": {
   "codemirror_mode": {
    "name": "ipython",
    "version": 3
   },
   "file_extension": ".py",
   "mimetype": "text/x-python",
   "name": "python",
   "nbconvert_exporter": "python",
   "pygments_lexer": "ipython3",
   "version": "3.10.7"
  },
  "orig_nbformat": 4
 },
 "nbformat": 4,
 "nbformat_minor": 2
}
