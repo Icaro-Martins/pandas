{
 "cells": [
  {
   "cell_type": "code",
   "execution_count": null,
   "metadata": {},
   "outputs": [],
   "source": [
    "#Importando bibliotecas\n",
    "import pandas as pd"
   ]
  },
  {
   "cell_type": "code",
   "execution_count": null,
   "metadata": {},
   "outputs": [],
   "source": [
    "#Abrindo Arquivo CSV enpecificando cabeçalho\n",
    "df = pd.read_csv('nome_arquivo.csv', encoding='UTF-8', sep=';', header=0)"
   ]
  },
  {
   "cell_type": "code",
   "execution_count": null,
   "metadata": {},
   "outputs": [],
   "source": [
    "#Selecionando algumas colunas na hora da importação (USECOLS)\n",
    "df = pd.read_csv('nome_arquivo.csv', encoding='UTF-8', sep=';', usecols=['coluna1','coluna2'])"
   ]
  },
  {
   "cell_type": "code",
   "execution_count": null,
   "metadata": {},
   "outputs": [],
   "source": [
    "# Lendo X linhas do arquivo na hora da importação, (NROWS=)\n",
    "df = pd.read_csv('nome_arquivo.csv', encoding='UTF-8', sep=';', nrows='200')"
   ]
  },
  {
   "cell_type": "code",
   "execution_count": null,
   "metadata": {},
   "outputs": [],
   "source": [
    "df.head()"
   ]
  },
  {
   "cell_type": "code",
   "execution_count": null,
   "metadata": {},
   "outputs": [],
   "source": [
    "# Quantidade de linhas e quantidade de colunas\n",
    "df.shape()"
   ]
  }
 ],
 "metadata": {
  "language_info": {
   "name": "python"
  },
  "orig_nbformat": 4
 },
 "nbformat": 4,
 "nbformat_minor": 2
}
