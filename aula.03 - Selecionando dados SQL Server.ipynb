{
 "cells": [
  {
   "cell_type": "code",
   "execution_count": null,
   "metadata": {},
   "outputs": [],
   "source": [
    "import pyodbc\n",
    "import pandas as pd"
   ]
  },
  {
   "cell_type": "code",
   "execution_count": null,
   "metadata": {},
   "outputs": [],
   "source": [
    "def retorna_conexao_sql():\n",
    "    server = 'DESKTOP-8EBT7S9'\n",
    "    database = 'AdventureWorks2017'\n",
    "    string_conexao = 'Drive={}; Server='+serve+'; Database='+databse+';Trusted_Connection=yes\n",
    "    conexao = pyodbc.connect(string_conexao)\n",
    "    return conexao"
   ]
  },
  {
   "cell_type": "code",
   "execution_count": null,
   "metadata": {},
   "outputs": [],
   "source": [
    "conn = retorna_conexao_sql()\n",
    "sql = 'Select Top 10 * From Nome_da_tabela'\n",
    "\n",
    "# Passa os parametros de conexão e faz a chama da tabela especificada\n",
    "dados = pd.read.sql(sql, conn)"
   ]
  }
 ],
 "metadata": {
  "kernelspec": {
   "display_name": "Python 3",
   "language": "python",
   "name": "python3"
  },
  "language_info": {
   "codemirror_mode": {
    "name": "ipython",
    "version": 3
   },
   "file_extension": ".py",
   "mimetype": "text/x-python",
   "name": "python",
   "nbconvert_exporter": "python",
   "pygments_lexer": "ipython3",
   "version": "3.10.7"
  },
  "orig_nbformat": 4
 },
 "nbformat": 4,
 "nbformat_minor": 2
}
