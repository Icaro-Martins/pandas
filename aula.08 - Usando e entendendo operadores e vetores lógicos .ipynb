{
 "cells": [
  {
   "cell_type": "code",
   "execution_count": null,
   "metadata": {},
   "outputs": [],
   "source": [
    "#importando biblioteca\n",
    "import pandas as pd"
   ]
  },
  {
   "cell_type": "code",
   "execution_count": null,
   "metadata": {},
   "outputs": [],
   "source": [
    "#Importando dados\n",
    "df = pd.read_excel('nome_arquivo.xlsx', encoding=\"UTF-8\", sep=\";\")"
   ]
  },
  {
   "cell_type": "code",
   "execution_count": null,
   "metadata": {},
   "outputs": [],
   "source": [
    "#Vetores logicos\n",
    "df.loc[[True,False,True],[True,False,True]]# dessa forma eu posso selecionar os valores boleanos [linhas],[colunas]"
   ]
  },
  {
   "cell_type": "code",
   "execution_count": null,
   "metadata": {},
   "outputs": [],
   "source": [
    "# Como realizar operações logicas no dataframe\n",
    "df[df.coluna_name == \"valor/atributo\"].head()"
   ]
  },
  {
   "cell_type": "code",
   "execution_count": null,
   "metadata": {},
   "outputs": [],
   "source": [
    "# Operador logico AND ( & )\n",
    "df[(df.nome_coluna == 'valor desejado') & (df.coluna2 == 'valor desejado')].head() # filtra atraves desses valores e traz todas as coluinas\n",
    "df[(df.nome_coluna == 'valor desejado') & (df.coluna2 == 'valor desejado')][['colunasX','colunaY']].head() # filtra atraves desses valores e traz as colunas selecionadas"
   ]
  },
  {
   "cell_type": "code",
   "execution_count": null,
   "metadata": {},
   "outputs": [],
   "source": [
    "# Operador logico OUR ( | )\n",
    "df[(df.nome_coluna == 'valor desejado') | (df.coluna2 == 'valor desejado')].head() # filtra atraves desses valores e traz todas as coluinas\n",
    "df[(df.nome_coluna == 'valor desejado') | (df.coluna2 == 'valor desejado')][['colunasX','colunaY']].head() # filtra atraves desses valores e traz as colunas selecionadas"
   ]
  }
 ],
 "metadata": {
  "language_info": {
   "name": "python"
  },
  "orig_nbformat": 4
 },
 "nbformat": 4,
 "nbformat_minor": 2
}
